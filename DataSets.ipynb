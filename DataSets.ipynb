{
 "cells": [
  {
   "cell_type": "code",
   "execution_count": 1,
   "metadata": {},
   "outputs": [
    {
     "name": "stderr",
     "output_type": "stream",
     "text": [
      "Using TensorFlow backend.\n"
     ]
    }
   ],
   "source": [
    "import os\n",
    "import numpy as np\n",
    "from keras.applications.vgg16 import VGG16\n",
    "from keras.preprocessing import image\n",
    "from keras.applications.vgg16 import preprocess_input"
   ]
  },
  {
   "cell_type": "code",
   "execution_count": 2,
   "metadata": {},
   "outputs": [
    {
     "name": "stdout",
     "output_type": "stream",
     "text": [
      "12\n"
     ]
    }
   ],
   "source": [
    "import os\n",
    "import glob\n",
    "labels = np.zeros((4750,12),dtype=\"int32\")\n",
    "imgs = os.listdir(\"./train1\")\n",
    "count = 0\n",
    "count1 = 0\n",
    "images = []\n",
    "for i in imgs:\n",
    "    imgs1 = os.listdir(\"./train1/\"+i)\n",
    "    for j in imgs1:\n",
    "        img = image.load_img('./train1/'+i+'/'+j, target_size=(150, 150))\n",
    "        img = image.img_to_array(img)\n",
    "        images.append(img)\n",
    "        labels[count1,count] = 1\n",
    "        count1 = count1 + 1\n",
    "    count = count + 1\n",
    "images = np.array(images)/255\n",
    "labels = np.array(labels)\n",
    "np.save('images_cut.npy',images)\n",
    "np.save('labels.npy',labels)\n",
    "print(count)"
   ]
  },
  {
   "cell_type": "code",
   "execution_count": 3,
   "metadata": {},
   "outputs": [],
   "source": [
    "model = VGG16(weights='imagenet', include_top=False)"
   ]
  },
  {
   "cell_type": "code",
   "execution_count": 4,
   "metadata": {},
   "outputs": [],
   "source": [
    "images_cut_deel = model.predict(images)\n",
    "np.save('images_cut_deel.npy',images_cut_deel)"
   ]
  },
  {
   "cell_type": "code",
   "execution_count": 5,
   "metadata": {},
   "outputs": [],
   "source": [
    "import os\n",
    "imgs = os.listdir(\"./test_cut\")\n",
    "test = []\n",
    "for i in imgs:\n",
    "    img = image.load_img('./test_cut/'+i, target_size=(150, 150))\n",
    "    img = image.img_to_array(img)\n",
    "    test.append(img)\n",
    "test = np.array(test)/255\n",
    "np.save('test_cut.npy',test)"
   ]
  },
  {
   "cell_type": "code",
   "execution_count": 6,
   "metadata": {},
   "outputs": [],
   "source": [
    "test_cut_deel = model.predict(test)\n",
    "np.save('test_cut_deel.npy',test_cut_deel)"
   ]
  }
 ],
 "metadata": {
  "kernelspec": {
   "display_name": "Python 3",
   "language": "python",
   "name": "python3"
  },
  "language_info": {
   "codemirror_mode": {
    "name": "ipython",
    "version": 3
   },
   "file_extension": ".py",
   "mimetype": "text/x-python",
   "name": "python",
   "nbconvert_exporter": "python",
   "pygments_lexer": "ipython3",
   "version": "3.6.3"
  }
 },
 "nbformat": 4,
 "nbformat_minor": 2
}
