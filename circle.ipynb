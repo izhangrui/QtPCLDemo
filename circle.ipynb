{
 "cells": [
  {
   "cell_type": "code",
   "execution_count": 1,
   "metadata": {},
   "outputs": [
    {
     "name": "stderr",
     "output_type": "stream",
     "text": [
      "C:\\Users\\jerry\\AppData\\Local\\Continuum\\anaconda3\\lib\\site-packages\\sklearn\\cross_validation.py:41: DeprecationWarning: This module was deprecated in version 0.18 in favor of the model_selection module into which all the refactored classes and functions are moved. Also note that the interface of the new CV iterators are different from that of this module. This module will be removed in 0.20.\n",
      "  \"This module will be removed in 0.20.\", DeprecationWarning)\n"
     ]
    }
   ],
   "source": [
    "from sklearn.cross_validation import train_test_split\n",
    "import random\n",
    "import numpy as np\n",
    "train_data1=np.load('X_train.npy')\n",
    "labels1=np.load('y_train.npy')\n",
    "test_data1=np.load('X_valid.npy')\n",
    "test_labels=np.load('y_valid.npy')\n",
    "X_train, X_valid, y_train, y_valid = train_test_split(train_data1, labels1, test_size=0.3, random_state=random.randint(0,100))"
   ]
  },
  {
   "cell_type": "code",
   "execution_count": 61,
   "metadata": {},
   "outputs": [
    {
     "name": "stdout",
     "output_type": "stream",
     "text": [
      "Train on 735 samples, validate on 315 samples\n",
      "Epoch 1/10\n",
      "735/735 [==============================] - 2s 2ms/step - loss: 2.2128 - acc: 0.7880 - val_loss: 1.5637 - val_acc: 0.8483\n",
      "Epoch 2/10\n",
      "735/735 [==============================] - 1s 1ms/step - loss: 1.3265 - acc: 0.8650 - val_loss: 1.1718 - val_acc: 0.8648\n",
      "Epoch 3/10\n",
      "735/735 [==============================] - 1s 1ms/step - loss: 0.9905 - acc: 0.8895 - val_loss: 1.0645 - val_acc: 0.8705\n",
      "Epoch 4/10\n",
      "735/735 [==============================] - 1s 1ms/step - loss: 0.8727 - acc: 0.9056 - val_loss: 1.0954 - val_acc: 0.8673\n",
      "Epoch 5/10\n",
      "735/735 [==============================] - 1s 1ms/step - loss: 0.6314 - acc: 0.9181 - val_loss: 1.1488 - val_acc: 0.8667\n",
      "Epoch 6/10\n",
      "735/735 [==============================] - 1s 1ms/step - loss: 0.5079 - acc: 0.9358 - val_loss: 1.0548 - val_acc: 0.8610\n",
      "Epoch 7/10\n",
      "735/735 [==============================] - 1s 1ms/step - loss: 0.4237 - acc: 0.9429 - val_loss: 1.0227 - val_acc: 0.8686\n",
      "Epoch 8/10\n",
      "735/735 [==============================] - 1s 1ms/step - loss: 0.3636 - acc: 0.9467 - val_loss: 0.9750 - val_acc: 0.8692\n",
      "Epoch 9/10\n",
      "735/735 [==============================] - 1s 1ms/step - loss: 0.2568 - acc: 0.9559 - val_loss: 0.8762 - val_acc: 0.8800\n",
      "Epoch 10/10\n",
      "735/735 [==============================] - 1s 1ms/step - loss: 0.2819 - acc: 0.9600 - val_loss: 1.0740 - val_acc: 0.8762\n"
     ]
    }
   ],
   "source": [
    "from keras.models import Sequential\n",
    "from keras.layers import Dense, Dropout, Activation, Flatten\n",
    "from keras.layers import Convolution2D, MaxPooling2D\n",
    "from keras.optimizers import SGD\n",
    "from keras.utils import np_utils\n",
    "from keras.models import load_model\n",
    "from keras import backend as K\n",
    "# the features were saved in order, so recreating the labels is easy\n",
    "\n",
    "#validation_data = np.load('bottleneck_features_validation.npy')\n",
    "\n",
    "model1 = Sequential()\n",
    "model1.add(Flatten(input_shape=train_data1.shape[1:]))\n",
    "model1.add(Dense(256, activation='relu'))\n",
    "model1.add(Dropout(0.5))\n",
    "model1.add(Dense(5, activation='softmax'))#5类\n",
    "\n",
    "model1.compile(optimizer='rmsprop',\n",
    "              loss='binary_crossentropy',\n",
    "              metrics=['accuracy'])\n",
    "\n",
    "model1.fit(X_train, y_train,\n",
    "          epochs=10, batch_size=32,#循环次数10，可调\n",
    "          validation_data=(X_valid, y_valid),\n",
    "          shuffle=True)\n",
    "model1.save('bottleneck_fc_model.h5')"
   ]
  },
  {
   "cell_type": "code",
   "execution_count": 49,
   "metadata": {},
   "outputs": [],
   "source": [
    "from keras.models import Sequential\n",
    "from keras.layers import Dense, Dropout, Activation, Flatten\n",
    "from keras.layers import Convolution2D, MaxPooling2D\n",
    "from keras.optimizers import SGD\n",
    "from keras.utils import np_utils\n",
    "from keras.models import load_model\n",
    "from keras import backend as K\n",
    "# the features were saved in order, so recreating the labels is easy\n",
    "\n",
    "#validation_data = np.load('bottleneck_features_validation.npy')\n",
    "\n",
    "model1 = Sequential()\n",
    "model1.add(Flatten(input_shape=train_data1.shape[1:]))\n",
    "model1.add(Dense(256, activation='relu'))\n",
    "model1.add(Dropout(0.5))\n",
    "model1.add(Dense(5, activation='softmax'))#5类\n",
    "\n",
    "model1.compile(optimizer='rmsprop',\n",
    "              loss='binary_crossentropy',\n",
    "              metrics=['accuracy'])"
   ]
  },
  {
   "cell_type": "code",
   "execution_count": null,
   "metadata": {},
   "outputs": [],
   "source": []
  },
  {
   "cell_type": "code",
   "execution_count": 64,
   "metadata": {},
   "outputs": [],
   "source": [
    "out = model1.predict(test_data1)\n",
    "\n",
    "import os\n",
    "result1 = []\n",
    "result2 = []\n",
    "for i in range(out.shape[0]):\n",
    "    for j in range(out.shape[1]):\n",
    "        if out[i,j]==max(out[i]):\n",
    "            result1.append(j+1)\n",
    "        if test_labels[i,j]==max(test_labels[i]):\n",
    "            result2.append(j+1)\n",
    "r1=np.array(result1)\n",
    "r2=np.array(result2)"
   ]
  },
  {
   "cell_type": "code",
   "execution_count": 59,
   "metadata": {},
   "outputs": [
    {
     "data": {
      "text/plain": [
       "0.6822222222222222"
      ]
     },
     "execution_count": 59,
     "metadata": {},
     "output_type": "execute_result"
    }
   ],
   "source": [
    "np.mean(r1==r2)"
   ]
  },
  {
   "cell_type": "code",
   "execution_count": 51,
   "metadata": {},
   "outputs": [
    {
     "data": {
      "text/plain": [
       "array([[0., 1., 0., 0., 0.],\n",
       "       [0., 0., 1., 0., 0.],\n",
       "       [0., 0., 1., 0., 0.],\n",
       "       ...,\n",
       "       [1., 0., 0., 0., 0.],\n",
       "       [1., 0., 0., 0., 0.],\n",
       "       [0., 1., 0., 0., 0.]])"
      ]
     },
     "execution_count": 51,
     "metadata": {},
     "output_type": "execute_result"
    }
   ],
   "source": [
    "import random\n",
    "out = np.zeros([test_data1.shape[0],5])\n",
    "random.randint(1,5)\n",
    "for i in range(out.shape[0]):\n",
    "    out[i,random.randint(1,5)-1]=1\n",
    "out"
   ]
  },
  {
   "cell_type": "code",
   "execution_count": 65,
   "metadata": {},
   "outputs": [
    {
     "name": "stdout",
     "output_type": "stream",
     "text": [
      "Train on 450 samples, validate on 450 samples\n",
      "Epoch 1/10\n",
      "450/450 [==============================] - 1s 1ms/step - loss: 0.0990 - acc: 0.1689 - val_loss: 0.0446 - val_acc: 0.1689\n",
      "Epoch 2/10\n",
      "450/450 [==============================] - 1s 2ms/step - loss: 0.0920 - acc: 0.1667 - val_loss: 0.0548 - val_acc: 0.1689\n",
      "Epoch 3/10\n",
      "450/450 [==============================] - 1s 2ms/step - loss: 0.0868 - acc: 0.1680 - val_loss: 0.0432 - val_acc: 0.1689\n",
      "Epoch 4/10\n",
      "450/450 [==============================] - 1s 1ms/step - loss: 0.0761 - acc: 0.1684 - val_loss: 0.0433 - val_acc: 0.1689\n",
      "Epoch 5/10\n",
      "450/450 [==============================] - 1s 2ms/step - loss: 0.1080 - acc: 0.1680 - val_loss: 0.0387 - val_acc: 0.1689\n",
      "Epoch 6/10\n",
      "450/450 [==============================] - 1s 1ms/step - loss: 0.0950 - acc: 0.1680 - val_loss: 0.0383 - val_acc: 0.1689\n",
      "Epoch 7/10\n",
      "450/450 [==============================] - 1s 1ms/step - loss: 0.0654 - acc: 0.1680 - val_loss: 0.0348 - val_acc: 0.1689\n",
      "Epoch 8/10\n",
      "450/450 [==============================] - 1s 2ms/step - loss: 0.0625 - acc: 0.1689 - val_loss: 0.0344 - val_acc: 0.1689\n",
      "Epoch 9/10\n",
      "450/450 [==============================] - 1s 2ms/step - loss: 0.0629 - acc: 0.1689 - val_loss: 0.0379 - val_acc: 0.1689\n",
      "Epoch 10/10\n",
      "450/450 [==============================] - 1s 2ms/step - loss: 0.0607 - acc: 0.1689 - val_loss: 0.0359 - val_acc: 0.1689\n"
     ]
    },
    {
     "data": {
      "text/plain": [
       "0.6844444444444444"
      ]
     },
     "execution_count": 65,
     "metadata": {},
     "output_type": "execute_result"
    }
   ],
   "source": [
    "model1.fit(test_data1, out,\n",
    "          epochs=10, batch_size=32,#循环次数10，可调\n",
    "          validation_data=(test_data1, out),\n",
    "          shuffle=True)\n",
    "model1.save('bottleneck_fc_model.h5')\n",
    "out = model1.predict(test_data1)\n",
    "\n",
    "import os\n",
    "result1 = []\n",
    "result2 = []\n",
    "for i in range(out.shape[0]):\n",
    "    for j in range(out.shape[1]):\n",
    "        if out[i,j]==max(out[i]):\n",
    "            result1.append(j+1)\n",
    "        if test_labels[i,j]==max(test_labels[i]):\n",
    "            result2.append(j+1)\n",
    "r1=np.array(result1)\n",
    "r2=np.array(result2)\n",
    "np.mean(r1==r2)"
   ]
  },
  {
   "cell_type": "code",
   "execution_count": 54,
   "metadata": {},
   "outputs": [
    {
     "name": "stdout",
     "output_type": "stream",
     "text": [
      "Train on 450 samples, validate on 450 samples\n",
      "Epoch 1/5\n",
      "450/450 [==============================] - 1s 2ms/step - loss: 2.9912 - acc: 0.0529 - val_loss: 2.2082 - val_acc: 0.0591\n",
      "Epoch 2/5\n",
      "450/450 [==============================] - 1s 2ms/step - loss: 1.8646 - acc: 0.0582 - val_loss: 1.1482 - val_acc: 0.0680\n",
      "Epoch 3/5\n",
      "450/450 [==============================] - 1s 2ms/step - loss: 1.1665 - acc: 0.0613 - val_loss: 0.8232 - val_acc: 0.0707\n",
      "Epoch 4/5\n",
      "450/450 [==============================] - 1s 2ms/step - loss: 0.7911 - acc: 0.0716 - val_loss: 0.6050 - val_acc: 0.0782\n",
      "Epoch 5/5\n",
      "450/450 [==============================] - 1s 2ms/step - loss: 0.6389 - acc: 0.0689 - val_loss: 0.4642 - val_acc: 0.0849\n",
      "0.2288888888888889\n",
      "Train on 450 samples, validate on 450 samples\n",
      "Epoch 1/5\n",
      "450/450 [==============================] - 1s 2ms/step - loss: 0.4522 - acc: 0.0062 - val_loss: 0.4216 - val_acc: 0.0062\n",
      "Epoch 2/5\n",
      "450/450 [==============================] - 1s 2ms/step - loss: 0.4508 - acc: 0.0062 - val_loss: 0.4206 - val_acc: 0.0062\n",
      "Epoch 3/5\n",
      "450/450 [==============================] - 1s 2ms/step - loss: 0.4832 - acc: 0.0058 - val_loss: 0.4279 - val_acc: 0.0062\n",
      "Epoch 4/5\n",
      "450/450 [==============================] - 1s 2ms/step - loss: 0.4853 - acc: 0.0058 - val_loss: 0.4332 - val_acc: 0.0062\n",
      "Epoch 5/5\n",
      "450/450 [==============================] - 1s 2ms/step - loss: 0.4864 - acc: 0.0053 - val_loss: 0.4116 - val_acc: 0.0062\n",
      "0.2111111111111111\n",
      "Train on 450 samples, validate on 450 samples\n",
      "Epoch 1/5\n",
      "450/450 [==============================] - 1s 2ms/step - loss: 0.4301 - acc: 0.0067 - val_loss: 0.3912 - val_acc: 0.0067\n",
      "Epoch 2/5\n",
      "450/450 [==============================] - 1s 2ms/step - loss: 0.4372 - acc: 0.0062 - val_loss: 0.3913 - val_acc: 0.0067\n",
      "Epoch 3/5\n",
      "450/450 [==============================] - 1s 2ms/step - loss: 0.4280 - acc: 0.0067 - val_loss: 0.3933 - val_acc: 0.0067\n",
      "Epoch 4/5\n",
      "450/450 [==============================] - 1s 2ms/step - loss: 0.4414 - acc: 0.0062 - val_loss: 0.3965 - val_acc: 0.0067\n",
      "Epoch 5/5\n",
      " 96/450 [=====>........................] - ETA: 0s - loss: 0.4178 - acc: 0.0104"
     ]
    },
    {
     "ename": "KeyboardInterrupt",
     "evalue": "",
     "output_type": "error",
     "traceback": [
      "\u001b[1;31m---------------------------------------------------------------------------\u001b[0m",
      "\u001b[1;31mKeyboardInterrupt\u001b[0m                         Traceback (most recent call last)",
      "\u001b[1;32m<ipython-input-54-6ede7bf8abfb>\u001b[0m in \u001b[0;36m<module>\u001b[1;34m()\u001b[0m\n\u001b[0;32m      3\u001b[0m           \u001b[0mepochs\u001b[0m\u001b[1;33m=\u001b[0m\u001b[1;36m5\u001b[0m\u001b[1;33m,\u001b[0m \u001b[0mbatch_size\u001b[0m\u001b[1;33m=\u001b[0m\u001b[1;36m32\u001b[0m\u001b[1;33m,\u001b[0m\u001b[1;31m#循环次数10，可调\u001b[0m\u001b[1;33m\u001b[0m\u001b[0m\n\u001b[0;32m      4\u001b[0m           \u001b[0mvalidation_data\u001b[0m\u001b[1;33m=\u001b[0m\u001b[1;33m(\u001b[0m\u001b[0mtest_data1\u001b[0m\u001b[1;33m,\u001b[0m \u001b[0mout\u001b[0m\u001b[1;33m)\u001b[0m\u001b[1;33m,\u001b[0m\u001b[1;33m\u001b[0m\u001b[0m\n\u001b[1;32m----> 5\u001b[1;33m           shuffle=True)\n\u001b[0m\u001b[0;32m      6\u001b[0m     \u001b[0mout\u001b[0m \u001b[1;33m=\u001b[0m \u001b[0mmodel1\u001b[0m\u001b[1;33m.\u001b[0m\u001b[0mpredict\u001b[0m\u001b[1;33m(\u001b[0m\u001b[0mtest_data1\u001b[0m\u001b[1;33m)\u001b[0m\u001b[1;33m\u001b[0m\u001b[0m\n\u001b[0;32m      7\u001b[0m     \u001b[0mresult1\u001b[0m \u001b[1;33m=\u001b[0m \u001b[1;33m[\u001b[0m\u001b[1;33m]\u001b[0m\u001b[1;33m\u001b[0m\u001b[0m\n",
      "\u001b[1;32m~\\AppData\\Local\\Continuum\\anaconda3\\lib\\site-packages\\keras\\models.py\u001b[0m in \u001b[0;36mfit\u001b[1;34m(self, x, y, batch_size, epochs, verbose, callbacks, validation_split, validation_data, shuffle, class_weight, sample_weight, initial_epoch, steps_per_epoch, validation_steps, **kwargs)\u001b[0m\n\u001b[0;32m    961\u001b[0m                               \u001b[0minitial_epoch\u001b[0m\u001b[1;33m=\u001b[0m\u001b[0minitial_epoch\u001b[0m\u001b[1;33m,\u001b[0m\u001b[1;33m\u001b[0m\u001b[0m\n\u001b[0;32m    962\u001b[0m                               \u001b[0msteps_per_epoch\u001b[0m\u001b[1;33m=\u001b[0m\u001b[0msteps_per_epoch\u001b[0m\u001b[1;33m,\u001b[0m\u001b[1;33m\u001b[0m\u001b[0m\n\u001b[1;32m--> 963\u001b[1;33m                               validation_steps=validation_steps)\n\u001b[0m\u001b[0;32m    964\u001b[0m \u001b[1;33m\u001b[0m\u001b[0m\n\u001b[0;32m    965\u001b[0m     def evaluate(self, x=None, y=None,\n",
      "\u001b[1;32m~\\AppData\\Local\\Continuum\\anaconda3\\lib\\site-packages\\keras\\engine\\training.py\u001b[0m in \u001b[0;36mfit\u001b[1;34m(self, x, y, batch_size, epochs, verbose, callbacks, validation_split, validation_data, shuffle, class_weight, sample_weight, initial_epoch, steps_per_epoch, validation_steps, **kwargs)\u001b[0m\n\u001b[0;32m   1703\u001b[0m                               \u001b[0minitial_epoch\u001b[0m\u001b[1;33m=\u001b[0m\u001b[0minitial_epoch\u001b[0m\u001b[1;33m,\u001b[0m\u001b[1;33m\u001b[0m\u001b[0m\n\u001b[0;32m   1704\u001b[0m                               \u001b[0msteps_per_epoch\u001b[0m\u001b[1;33m=\u001b[0m\u001b[0msteps_per_epoch\u001b[0m\u001b[1;33m,\u001b[0m\u001b[1;33m\u001b[0m\u001b[0m\n\u001b[1;32m-> 1705\u001b[1;33m                               validation_steps=validation_steps)\n\u001b[0m\u001b[0;32m   1706\u001b[0m \u001b[1;33m\u001b[0m\u001b[0m\n\u001b[0;32m   1707\u001b[0m     def evaluate(self, x=None, y=None,\n",
      "\u001b[1;32m~\\AppData\\Local\\Continuum\\anaconda3\\lib\\site-packages\\keras\\engine\\training.py\u001b[0m in \u001b[0;36m_fit_loop\u001b[1;34m(self, f, ins, out_labels, batch_size, epochs, verbose, callbacks, val_f, val_ins, shuffle, callback_metrics, initial_epoch, steps_per_epoch, validation_steps)\u001b[0m\n\u001b[0;32m   1233\u001b[0m                         \u001b[0mins_batch\u001b[0m\u001b[1;33m[\u001b[0m\u001b[0mi\u001b[0m\u001b[1;33m]\u001b[0m \u001b[1;33m=\u001b[0m \u001b[0mins_batch\u001b[0m\u001b[1;33m[\u001b[0m\u001b[0mi\u001b[0m\u001b[1;33m]\u001b[0m\u001b[1;33m.\u001b[0m\u001b[0mtoarray\u001b[0m\u001b[1;33m(\u001b[0m\u001b[1;33m)\u001b[0m\u001b[1;33m\u001b[0m\u001b[0m\n\u001b[0;32m   1234\u001b[0m \u001b[1;33m\u001b[0m\u001b[0m\n\u001b[1;32m-> 1235\u001b[1;33m                     \u001b[0mouts\u001b[0m \u001b[1;33m=\u001b[0m \u001b[0mf\u001b[0m\u001b[1;33m(\u001b[0m\u001b[0mins_batch\u001b[0m\u001b[1;33m)\u001b[0m\u001b[1;33m\u001b[0m\u001b[0m\n\u001b[0m\u001b[0;32m   1236\u001b[0m                     \u001b[1;32mif\u001b[0m \u001b[1;32mnot\u001b[0m \u001b[0misinstance\u001b[0m\u001b[1;33m(\u001b[0m\u001b[0mouts\u001b[0m\u001b[1;33m,\u001b[0m \u001b[0mlist\u001b[0m\u001b[1;33m)\u001b[0m\u001b[1;33m:\u001b[0m\u001b[1;33m\u001b[0m\u001b[0m\n\u001b[0;32m   1237\u001b[0m                         \u001b[0mouts\u001b[0m \u001b[1;33m=\u001b[0m \u001b[1;33m[\u001b[0m\u001b[0mouts\u001b[0m\u001b[1;33m]\u001b[0m\u001b[1;33m\u001b[0m\u001b[0m\n",
      "\u001b[1;32m~\\AppData\\Local\\Continuum\\anaconda3\\lib\\site-packages\\keras\\backend\\tensorflow_backend.py\u001b[0m in \u001b[0;36m__call__\u001b[1;34m(self, inputs)\u001b[0m\n\u001b[0;32m   2476\u001b[0m         \u001b[0msession\u001b[0m \u001b[1;33m=\u001b[0m \u001b[0mget_session\u001b[0m\u001b[1;33m(\u001b[0m\u001b[1;33m)\u001b[0m\u001b[1;33m\u001b[0m\u001b[0m\n\u001b[0;32m   2477\u001b[0m         updated = session.run(fetches=fetches, feed_dict=feed_dict,\n\u001b[1;32m-> 2478\u001b[1;33m                               **self.session_kwargs)\n\u001b[0m\u001b[0;32m   2479\u001b[0m         \u001b[1;32mreturn\u001b[0m \u001b[0mupdated\u001b[0m\u001b[1;33m[\u001b[0m\u001b[1;33m:\u001b[0m\u001b[0mlen\u001b[0m\u001b[1;33m(\u001b[0m\u001b[0mself\u001b[0m\u001b[1;33m.\u001b[0m\u001b[0moutputs\u001b[0m\u001b[1;33m)\u001b[0m\u001b[1;33m]\u001b[0m\u001b[1;33m\u001b[0m\u001b[0m\n\u001b[0;32m   2480\u001b[0m \u001b[1;33m\u001b[0m\u001b[0m\n",
      "\u001b[1;32m~\\AppData\\Local\\Continuum\\anaconda3\\lib\\site-packages\\tensorflow\\python\\client\\session.py\u001b[0m in \u001b[0;36mrun\u001b[1;34m(self, fetches, feed_dict, options, run_metadata)\u001b[0m\n\u001b[0;32m    903\u001b[0m     \u001b[1;32mtry\u001b[0m\u001b[1;33m:\u001b[0m\u001b[1;33m\u001b[0m\u001b[0m\n\u001b[0;32m    904\u001b[0m       result = self._run(None, fetches, feed_dict, options_ptr,\n\u001b[1;32m--> 905\u001b[1;33m                          run_metadata_ptr)\n\u001b[0m\u001b[0;32m    906\u001b[0m       \u001b[1;32mif\u001b[0m \u001b[0mrun_metadata\u001b[0m\u001b[1;33m:\u001b[0m\u001b[1;33m\u001b[0m\u001b[0m\n\u001b[0;32m    907\u001b[0m         \u001b[0mproto_data\u001b[0m \u001b[1;33m=\u001b[0m \u001b[0mtf_session\u001b[0m\u001b[1;33m.\u001b[0m\u001b[0mTF_GetBuffer\u001b[0m\u001b[1;33m(\u001b[0m\u001b[0mrun_metadata_ptr\u001b[0m\u001b[1;33m)\u001b[0m\u001b[1;33m\u001b[0m\u001b[0m\n",
      "\u001b[1;32m~\\AppData\\Local\\Continuum\\anaconda3\\lib\\site-packages\\tensorflow\\python\\client\\session.py\u001b[0m in \u001b[0;36m_run\u001b[1;34m(self, handle, fetches, feed_dict, options, run_metadata)\u001b[0m\n\u001b[0;32m   1138\u001b[0m     \u001b[1;32mif\u001b[0m \u001b[0mfinal_fetches\u001b[0m \u001b[1;32mor\u001b[0m \u001b[0mfinal_targets\u001b[0m \u001b[1;32mor\u001b[0m \u001b[1;33m(\u001b[0m\u001b[0mhandle\u001b[0m \u001b[1;32mand\u001b[0m \u001b[0mfeed_dict_tensor\u001b[0m\u001b[1;33m)\u001b[0m\u001b[1;33m:\u001b[0m\u001b[1;33m\u001b[0m\u001b[0m\n\u001b[0;32m   1139\u001b[0m       results = self._do_run(handle, final_targets, final_fetches,\n\u001b[1;32m-> 1140\u001b[1;33m                              feed_dict_tensor, options, run_metadata)\n\u001b[0m\u001b[0;32m   1141\u001b[0m     \u001b[1;32melse\u001b[0m\u001b[1;33m:\u001b[0m\u001b[1;33m\u001b[0m\u001b[0m\n\u001b[0;32m   1142\u001b[0m       \u001b[0mresults\u001b[0m \u001b[1;33m=\u001b[0m \u001b[1;33m[\u001b[0m\u001b[1;33m]\u001b[0m\u001b[1;33m\u001b[0m\u001b[0m\n",
      "\u001b[1;32m~\\AppData\\Local\\Continuum\\anaconda3\\lib\\site-packages\\tensorflow\\python\\client\\session.py\u001b[0m in \u001b[0;36m_do_run\u001b[1;34m(self, handle, target_list, fetch_list, feed_dict, options, run_metadata)\u001b[0m\n\u001b[0;32m   1319\u001b[0m     \u001b[1;32mif\u001b[0m \u001b[0mhandle\u001b[0m \u001b[1;32mis\u001b[0m \u001b[1;32mNone\u001b[0m\u001b[1;33m:\u001b[0m\u001b[1;33m\u001b[0m\u001b[0m\n\u001b[0;32m   1320\u001b[0m       return self._do_call(_run_fn, feeds, fetches, targets, options,\n\u001b[1;32m-> 1321\u001b[1;33m                            run_metadata)\n\u001b[0m\u001b[0;32m   1322\u001b[0m     \u001b[1;32melse\u001b[0m\u001b[1;33m:\u001b[0m\u001b[1;33m\u001b[0m\u001b[0m\n\u001b[0;32m   1323\u001b[0m       \u001b[1;32mreturn\u001b[0m \u001b[0mself\u001b[0m\u001b[1;33m.\u001b[0m\u001b[0m_do_call\u001b[0m\u001b[1;33m(\u001b[0m\u001b[0m_prun_fn\u001b[0m\u001b[1;33m,\u001b[0m \u001b[0mhandle\u001b[0m\u001b[1;33m,\u001b[0m \u001b[0mfeeds\u001b[0m\u001b[1;33m,\u001b[0m \u001b[0mfetches\u001b[0m\u001b[1;33m)\u001b[0m\u001b[1;33m\u001b[0m\u001b[0m\n",
      "\u001b[1;32m~\\AppData\\Local\\Continuum\\anaconda3\\lib\\site-packages\\tensorflow\\python\\client\\session.py\u001b[0m in \u001b[0;36m_do_call\u001b[1;34m(self, fn, *args)\u001b[0m\n\u001b[0;32m   1325\u001b[0m   \u001b[1;32mdef\u001b[0m \u001b[0m_do_call\u001b[0m\u001b[1;33m(\u001b[0m\u001b[0mself\u001b[0m\u001b[1;33m,\u001b[0m \u001b[0mfn\u001b[0m\u001b[1;33m,\u001b[0m \u001b[1;33m*\u001b[0m\u001b[0margs\u001b[0m\u001b[1;33m)\u001b[0m\u001b[1;33m:\u001b[0m\u001b[1;33m\u001b[0m\u001b[0m\n\u001b[0;32m   1326\u001b[0m     \u001b[1;32mtry\u001b[0m\u001b[1;33m:\u001b[0m\u001b[1;33m\u001b[0m\u001b[0m\n\u001b[1;32m-> 1327\u001b[1;33m       \u001b[1;32mreturn\u001b[0m \u001b[0mfn\u001b[0m\u001b[1;33m(\u001b[0m\u001b[1;33m*\u001b[0m\u001b[0margs\u001b[0m\u001b[1;33m)\u001b[0m\u001b[1;33m\u001b[0m\u001b[0m\n\u001b[0m\u001b[0;32m   1328\u001b[0m     \u001b[1;32mexcept\u001b[0m \u001b[0merrors\u001b[0m\u001b[1;33m.\u001b[0m\u001b[0mOpError\u001b[0m \u001b[1;32mas\u001b[0m \u001b[0me\u001b[0m\u001b[1;33m:\u001b[0m\u001b[1;33m\u001b[0m\u001b[0m\n\u001b[0;32m   1329\u001b[0m       \u001b[0mmessage\u001b[0m \u001b[1;33m=\u001b[0m \u001b[0mcompat\u001b[0m\u001b[1;33m.\u001b[0m\u001b[0mas_text\u001b[0m\u001b[1;33m(\u001b[0m\u001b[0me\u001b[0m\u001b[1;33m.\u001b[0m\u001b[0mmessage\u001b[0m\u001b[1;33m)\u001b[0m\u001b[1;33m\u001b[0m\u001b[0m\n",
      "\u001b[1;32m~\\AppData\\Local\\Continuum\\anaconda3\\lib\\site-packages\\tensorflow\\python\\client\\session.py\u001b[0m in \u001b[0;36m_run_fn\u001b[1;34m(feed_dict, fetch_list, target_list, options, run_metadata)\u001b[0m\n\u001b[0;32m   1310\u001b[0m       \u001b[0mself\u001b[0m\u001b[1;33m.\u001b[0m\u001b[0m_extend_graph\u001b[0m\u001b[1;33m(\u001b[0m\u001b[1;33m)\u001b[0m\u001b[1;33m\u001b[0m\u001b[0m\n\u001b[0;32m   1311\u001b[0m       return self._call_tf_sessionrun(\n\u001b[1;32m-> 1312\u001b[1;33m           options, feed_dict, fetch_list, target_list, run_metadata)\n\u001b[0m\u001b[0;32m   1313\u001b[0m \u001b[1;33m\u001b[0m\u001b[0m\n\u001b[0;32m   1314\u001b[0m     \u001b[1;32mdef\u001b[0m \u001b[0m_prun_fn\u001b[0m\u001b[1;33m(\u001b[0m\u001b[0mhandle\u001b[0m\u001b[1;33m,\u001b[0m \u001b[0mfeed_dict\u001b[0m\u001b[1;33m,\u001b[0m \u001b[0mfetch_list\u001b[0m\u001b[1;33m)\u001b[0m\u001b[1;33m:\u001b[0m\u001b[1;33m\u001b[0m\u001b[0m\n",
      "\u001b[1;32m~\\AppData\\Local\\Continuum\\anaconda3\\lib\\site-packages\\tensorflow\\python\\client\\session.py\u001b[0m in \u001b[0;36m_call_tf_sessionrun\u001b[1;34m(self, options, feed_dict, fetch_list, target_list, run_metadata)\u001b[0m\n\u001b[0;32m   1418\u001b[0m         return tf_session.TF_Run(\n\u001b[0;32m   1419\u001b[0m             \u001b[0mself\u001b[0m\u001b[1;33m.\u001b[0m\u001b[0m_session\u001b[0m\u001b[1;33m,\u001b[0m \u001b[0moptions\u001b[0m\u001b[1;33m,\u001b[0m \u001b[0mfeed_dict\u001b[0m\u001b[1;33m,\u001b[0m \u001b[0mfetch_list\u001b[0m\u001b[1;33m,\u001b[0m \u001b[0mtarget_list\u001b[0m\u001b[1;33m,\u001b[0m\u001b[1;33m\u001b[0m\u001b[0m\n\u001b[1;32m-> 1420\u001b[1;33m             status, run_metadata)\n\u001b[0m\u001b[0;32m   1421\u001b[0m \u001b[1;33m\u001b[0m\u001b[0m\n\u001b[0;32m   1422\u001b[0m   \u001b[1;32mdef\u001b[0m \u001b[0m_call_tf_sessionprun\u001b[0m\u001b[1;33m(\u001b[0m\u001b[0mself\u001b[0m\u001b[1;33m,\u001b[0m \u001b[0mhandle\u001b[0m\u001b[1;33m,\u001b[0m \u001b[0mfeed_dict\u001b[0m\u001b[1;33m,\u001b[0m \u001b[0mfetch_list\u001b[0m\u001b[1;33m)\u001b[0m\u001b[1;33m:\u001b[0m\u001b[1;33m\u001b[0m\u001b[0m\n",
      "\u001b[1;31mKeyboardInterrupt\u001b[0m: "
     ]
    }
   ],
   "source": [
    "for i in range(50):\n",
    "    model1.fit(test_data1, out,\n",
    "          epochs=5, batch_size=32,#循环次数10，可调\n",
    "          validation_data=(test_data1, out),\n",
    "          shuffle=True)\n",
    "    out = model1.predict(test_data1)\n",
    "    result1 = []\n",
    "    result2 = []\n",
    "    for i in range(out.shape[0]):\n",
    "        for j in range(out.shape[1]):\n",
    "            if out[i,j]==max(out[i]):\n",
    "                result1.append(j+1)\n",
    "            if test_labels[i,j]==max(test_labels[i]):\n",
    "                result2.append(j+1)\n",
    "    r1=np.array(result1)\n",
    "    r2=np.array(result2)\n",
    "    print(np.mean(r1==r2))"
   ]
  }
 ],
 "metadata": {
  "kernelspec": {
   "display_name": "Python 3",
   "language": "python",
   "name": "python3"
  },
  "language_info": {
   "codemirror_mode": {
    "name": "ipython",
    "version": 3
   },
   "file_extension": ".py",
   "mimetype": "text/x-python",
   "name": "python",
   "nbconvert_exporter": "python",
   "pygments_lexer": "ipython3",
   "version": "3.6.4"
  }
 },
 "nbformat": 4,
 "nbformat_minor": 2
}
